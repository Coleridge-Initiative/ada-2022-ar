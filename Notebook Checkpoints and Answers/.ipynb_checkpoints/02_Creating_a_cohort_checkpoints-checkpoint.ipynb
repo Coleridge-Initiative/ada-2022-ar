{
 "cells": [
  {
   "cell_type": "markdown",
   "metadata": {},
   "source": [
    "# Checkpoints\n",
    "\n",
    "<a href=\"https://doi.org/10.5281/zenodo.10408116\"><img src=\"https://zenodo.org/badge/DOI/10.5281/zenodo.10408116.svg\" alt=\"DOI\"></a>\n"
   ]
  },
  {
   "cell_type": "markdown",
   "metadata": {},
   "source": [
    "**The purpose of this notebook and all other checkpoint notebooks is to get you to practice making changes to the code that will help construct your own research project. We have given hints and solutions but these are more applicable to a generic research project. You are encouraged to think about how these checkpoints, hints/solutions may help formulate and address your research question.**\n",
    "\n",
    "This notebook serves as an overview of what was discussed in `02_Creating_a_cohort.ipynb` and `01_EDA.ipynb` through **4 checkpoints**. \n",
    "\n",
    "At each checkpoint you will be replacing the `___` with the appropriate variable, function, or R code snippet. \n",
    "\n",
    "Participants are encouraged to attempt the checkpoints on their own. Having said that, hints and suggested solutions are provided which can be accessed by utilizing the following code:\n",
    "\n",
    "Hints: `check_#.hint()`\n",
    "\n",
    "Solutions: `check_#.solution()` – your solutions may vary based on how you define your cohort. We have shared our suggested solutions.\n",
    "\n",
    "In both cases, # refers to the checkpoint number. For example: we can access the hint and solution for Checkpoint 2 using: `check_2.hint()` and `check_2.solution` respectively. \n",
    "\n",
    "> Note: The code for accessing hints and solutions are currently commented out. To run them, you will need to uncomment them first. "
   ]
  },
  {
   "cell_type": "code",
   "execution_count": null,
   "metadata": {},
   "outputs": [],
   "source": [
    "options(warn = -1)                   # switches warnings off\n",
    "\n",
    "suppressMessages(library(odbc))      # allows R to connect with the database\n",
    "suppressMessages(library(tidyverse)) # useful for data manipulation and visualization\n",
    "suppressMessages(library(scales))    # to calculate percentages, graphing\n",
    "suppressMessages(library(lubridate)) # for easy working with dates \n",
    "\n",
    "options(warn = 0)                    # switches warnings on \n",
    "options(scipen=999)                  # prevents scientific notation\n",
    "\n",
    "source(\"02_Creating_a_cohort_hints_solutions.txt\") # defining hints + solutions"
   ]
  },
  {
   "cell_type": "code",
   "execution_count": null,
   "metadata": {},
   "outputs": [],
   "source": [
    "# server connection\n",
    "con <- DBI::dbConnect(odbc::odbc(),\n",
    "                     Driver = \"SQL Server\",\n",
    "                     Server = \"msssql01.c7bdq4o2yhxo.us-gov-west-1.rds.amazonaws.com\",\n",
    "                     Trusted_Connection = \"True\")"
   ]
  },
  {
   "cell_type": "markdown",
   "metadata": {},
   "source": [
    "## Checkpoint 1: Looking at Apprenticeship Enterers\n",
    "\n",
    "In `02_Creating_a_cohort.ipynb`, we defined our population of interest focusing on apprenticeship completers. For your project, you might want to select your cohort based on: \n",
    "\n",
    "1. Apprenticeship start or end date\n",
    "1. Whether participants completed their program\n",
    "1. Focusing on a certain demographic information\n",
    "\n",
    "As a starting point, for this checkpoint, we would like you to select your cohort based on apprenticeship entry or completion date.\n",
    "\n",
    "> Note: You might want to select different years or whether or not they have completed the training program. The answers given in the checkpoint might not align with your answers!"
   ]
  },
  {
   "cell_type": "code",
   "execution_count": null,
   "metadata": {},
   "outputs": [],
   "source": [
    "# question\n",
    "query <- \"\n",
    "SELECT\n",
    "RP.psnumber,\n",
    "RP.progname,\n",
    "RP.standardstype,\n",
    "RA.apprnumber,\n",
    "RA.naicscode,\n",
    "NNI.Name,\n",
    "RA.occupationtitle,\n",
    "RA.onetsoccode,\n",
    "RA.apprstatus,\n",
    "RA.progstate,\n",
    "RA.progzip5,\n",
    "RA.county,\n",
    "RA.termlengthmin,\n",
    "RA.gender,\n",
    "RA.race,\n",
    "RA.ethnicity,\n",
    "RA.vetstatind,\n",
    "RA.disabled,\n",
    "RA.ageatstart,\n",
    "RA.exitwagedt\n",
    "FROM ds_public_1.dbo.rapids_apprentice RA\n",
    "JOIN ds_public_1.dbo.rapids_program RP ON (RP.psnumber =RA.psnumber)\n",
    "LEFT JOIN ds_ar_dws.dbo.NAICS_National_Industry NNI ON (NNI.Code = RA.naicscode)\n",
    "WHERE RA.progstate='AR' --RESTRICT TO ARKANSAS PARTICIPANTS ONLY\n",
    "AND YEAR(RA._____) BETWEEN ___ AND ___ --RESTRICT TO INDIVIDUALS THAT ENTERED OR COMPLETED THE TRAINING DURING THESE YEARS\n",
    "AND RA.apprstatus = \"_\"' -- RESTRICT TO COMPLETION STATUS\n",
    "\"\n",
    "\n",
    "checkpoint_cohort <- dbGetQuery(con, query)\n",
    "\n",
    "# view the first 6 observations\n",
    "head(checkpoint_cohort)"
   ]
  },
  {
   "cell_type": "code",
   "execution_count": null,
   "metadata": {},
   "outputs": [],
   "source": [
    "# Uncomment the line below if you would like to see the hint\n",
    "#check_1.hint()"
   ]
  },
  {
   "cell_type": "markdown",
   "metadata": {},
   "source": [
    "To see the answer for an entry cohort, uncomment and run the code cell below."
   ]
  },
  {
   "cell_type": "code",
   "execution_count": null,
   "metadata": {},
   "outputs": [],
   "source": [
    "# Uncomment the line below if you would like to see the solution\n",
    "#check_1_entry.solution()"
   ]
  },
  {
   "cell_type": "markdown",
   "metadata": {},
   "source": [
    "To see the answer for an completion cohort, uncomment and run the code cell below."
   ]
  },
  {
   "cell_type": "code",
   "execution_count": null,
   "metadata": {},
   "outputs": [],
   "source": [
    "# Uncomment the line below if you would like to see the solution\n",
    "#check_1_exit.solution()"
   ]
  },
  {
   "cell_type": "markdown",
   "metadata": {},
   "source": [
    "Once you have defined the new cohort, we encourage you to see if there are any individuals who show up more than once. This is similar to what we checked for in `02_Creating_a_cohort.ipynb`. \n",
    "\n",
    "Run the code below to see if there are any such cases.\n",
    "\n",
    "> Note: You are not supposed to fill out any blanks in the following chunks of code as these are not checkpoints. "
   ]
  },
  {
   "cell_type": "code",
   "execution_count": null,
   "metadata": {},
   "outputs": [],
   "source": [
    "# confirm we have one row per ssn\n",
    "checkpoint_cohort %>%\n",
    "    summarize(\n",
    "        n_rows = n(),\n",
    "        n_people = n_distinct(apprnumber)\n",
    "    )"
   ]
  },
  {
   "cell_type": "markdown",
   "metadata": {},
   "source": [
    "For the purpose of your project, it might be useful to think of cases where keeping the latest entry would not be the best way to remove duplicates. It might also be worthwhile to see if there are other methods you could use to address duplicate entries. Finally, there could be cases where you would want to keep individuals who appear more than once in your data (for example: looking at the same individual over time)."
   ]
  },
  {
   "cell_type": "markdown",
   "metadata": {},
   "source": [
    "## Checkpoint 2: Race Distribution\n",
    "\n",
    "In `02_Creating_a_cohort.ipynb`, we looked at our cohort by gender. Let's explore this cohort by race."
   ]
  },
  {
   "cell_type": "code",
   "execution_count": null,
   "metadata": {},
   "outputs": [],
   "source": [
    "# question\n",
    "# numerical summary of age\n",
    "checkpoint_cohort %>%\n",
    "    count(___) %>%\n",
    "    arrange(desc(n))\n"
   ]
  },
  {
   "cell_type": "code",
   "execution_count": null,
   "metadata": {},
   "outputs": [],
   "source": [
    "# Uncomment the line below if you would like to see the hint\n",
    "#check_2.hint()"
   ]
  },
  {
   "cell_type": "code",
   "execution_count": null,
   "metadata": {},
   "outputs": [],
   "source": [
    "# Uncomment the line below if you would like to see the solution\n",
    "#check_2.solution()"
   ]
  },
  {
   "cell_type": "markdown",
   "metadata": {},
   "source": [
    "Based on your results from above, we will visualize the race distribution.... This may prove useful for your research projects as such methods help contextualize future findings. In this case, it will help us further develop an understanding of the race distribution."
   ]
  },
  {
   "cell_type": "markdown",
   "metadata": {},
   "source": [
    "## Checkpoint 2A: Race Distribution Visual"
   ]
  },
  {
   "cell_type": "code",
   "execution_count": null,
   "metadata": {},
   "outputs": [],
   "source": [
    "# fill in the blank below to create a visual summary of race\n",
    "# question\n",
    "checkpoint_cohort %>%\n",
    "    ggplot(aes(x=___)) + \n",
    "    geom_bar() + \n",
    "    theme(axis.text.x=element_text(angle=45, hjust=1))"
   ]
  },
  {
   "cell_type": "code",
   "execution_count": null,
   "metadata": {},
   "outputs": [],
   "source": [
    "#check_2A.hint()"
   ]
  },
  {
   "cell_type": "code",
   "execution_count": null,
   "metadata": {},
   "outputs": [],
   "source": [
    "#check_2A.solution()"
   ]
  },
  {
   "cell_type": "markdown",
   "metadata": {},
   "source": [
    "## Checkpoint 3: Age\n",
    "\n",
    "In the `01_EDA.ipynb` notebook, we looked at the distribution of the **ageatstart** variable, which is the apprentice's age at the beginning of the program. Let's see the age breakdown of the individuals in our cohort at the start of their apprenticeships."
   ]
  },
  {
   "cell_type": "code",
   "execution_count": null,
   "metadata": {},
   "outputs": [],
   "source": [
    "# filter to keep additional values of affil. These can be more than 3 as well\n",
    "age_freq <- checkpoint_cohort %>%\n",
    "    count(____) %>%\n",
    "    arrange(___)\n",
    "age_freq"
   ]
  },
  {
   "cell_type": "code",
   "execution_count": null,
   "metadata": {},
   "outputs": [],
   "source": [
    "# not a checkpoint\n",
    "age_freq %>% \n",
    "    ggplot(aes(x = as.numeric(ageatstart), y = n)) +\n",
    "    geom_line()"
   ]
  },
  {
   "cell_type": "code",
   "execution_count": null,
   "metadata": {},
   "outputs": [],
   "source": [
    "# Uncomment the line below if you would like to see the hint\n",
    "# check_3.hint()"
   ]
  },
  {
   "cell_type": "code",
   "execution_count": null,
   "metadata": {},
   "outputs": [],
   "source": [
    "# Uncomment the line below if you would like to see the solution\n",
    "# check_3.solution()"
   ]
  },
  {
   "cell_type": "markdown",
   "metadata": {},
   "source": [
    "## Checkpoint 4: Saving as a Permanent Table\n",
    "\n",
    "In this checkpoint, we ask you to save the cohort that you created above. When doing so, please save your table with the prefix **team#\\_name** to differentiate between tables for each team and invididual. **#** refers to your team number and **name** refers to your name (in lower case). For example: **team5_cohort_john**.\n",
    "\n",
    "\n",
    "> Note: The **dbo.** string will stay as it is and does not need to be changed. \n",
    "\n"
   ]
  },
  {
   "cell_type": "code",
   "execution_count": null,
   "metadata": {},
   "outputs": [],
   "source": [
    "qry <- \"use tr_ar_2022;\"\n",
    "DBI::dbExecute(con, qry)\n",
    "\n",
    "DBI::dbWriteTable(\n",
    "    conn = con,\n",
    "    # Replace the blank below with a string in the following format: team#_name (example provided above).\n",
    "    name = DBI::SQL(\"dbo.___\"), # Only replace the blank. Keep \"dbo.\" as it is\n",
    "    value = checkpoint_cohort, \n",
    "    overwrite = TRUE # Overwrites any existing tables \n",
    ")"
   ]
  },
  {
   "cell_type": "code",
   "execution_count": null,
   "metadata": {},
   "outputs": [],
   "source": [
    "# Uncomment the line below if you would like to see the hint\n",
    "#check_4.hint()"
   ]
  },
  {
   "cell_type": "markdown",
   "metadata": {},
   "source": [
    "We have not provided a solution for this. You can confirm that your table saved properly by querying from it."
   ]
  }
 ],
 "metadata": {
  "kernelspec": {
   "display_name": "R",
   "language": "R",
   "name": "ir"
  },
  "language_info": {
   "codemirror_mode": "r",
   "file_extension": ".r",
   "mimetype": "text/x-r-source",
   "name": "R",
   "pygments_lexer": "r",
   "version": "4.0.3"
  }
 },
 "nbformat": 4,
 "nbformat_minor": 4
}
